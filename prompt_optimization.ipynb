{
 "cells": [
  {
   "cell_type": "markdown",
   "id": "23cf47df",
   "metadata": {},
   "source": [
    "### Imports and loading "
   ]
  },
  {
   "cell_type": "code",
   "execution_count": 1,
   "id": "4980bebf",
   "metadata": {},
   "outputs": [
    {
     "name": "stderr",
     "output_type": "stream",
     "text": [
      "\u001b[32m2025-10-17 13:54:37.128\u001b[0m | \u001b[34m\u001b[1mDEBUG   \u001b[0m | \u001b[36mroma_dspy.config.manager\u001b[0m:\u001b[36mload_config\u001b[0m:\u001b[36m57\u001b[0m - \u001b[34m\u001b[1mLoading config: path=None, profile=test, overrides=None, env_prefix=ROMA_\u001b[0m\n",
      "\u001b[32m2025-10-17 13:54:37.128\u001b[0m | \u001b[34m\u001b[1mDEBUG   \u001b[0m | \u001b[36mroma_dspy.config.manager\u001b[0m:\u001b[36mload_config\u001b[0m:\u001b[36m66\u001b[0m - \u001b[34m\u001b[1mInitialized empty base config (defaults applied in validation)\u001b[0m\n",
      "\u001b[32m2025-10-17 13:54:37.136\u001b[0m | \u001b[34m\u001b[1mDEBUG   \u001b[0m | \u001b[36mroma_dspy.config.manager\u001b[0m:\u001b[36m_load_yaml\u001b[0m:\u001b[36m129\u001b[0m - \u001b[34m\u001b[1mLoaded and cached config from config/defaults/config.yaml\u001b[0m\n",
      "\u001b[32m2025-10-17 13:54:37.137\u001b[0m | \u001b[34m\u001b[1mDEBUG   \u001b[0m | \u001b[36mroma_dspy.config.manager\u001b[0m:\u001b[36mload_config\u001b[0m:\u001b[36m81\u001b[0m - \u001b[34m\u001b[1mMerged default config from config/defaults/config.yaml\u001b[0m\n",
      "\u001b[32m2025-10-17 13:54:37.146\u001b[0m | \u001b[34m\u001b[1mDEBUG   \u001b[0m | \u001b[36mroma_dspy.config.manager\u001b[0m:\u001b[36m_load_yaml\u001b[0m:\u001b[36m129\u001b[0m - \u001b[34m\u001b[1mLoaded and cached config from config/profiles/test.yaml\u001b[0m\n",
      "\u001b[32m2025-10-17 13:54:37.160\u001b[0m | \u001b[34m\u001b[1mDEBUG   \u001b[0m | \u001b[36mroma_dspy.config.manager\u001b[0m:\u001b[36mload_config\u001b[0m:\u001b[36m87\u001b[0m - \u001b[34m\u001b[1mApplied profile: test\u001b[0m\n",
      "\u001b[32m2025-10-17 13:54:37.162\u001b[0m | \u001b[34m\u001b[1mDEBUG   \u001b[0m | \u001b[36mroma_dspy.config.manager\u001b[0m:\u001b[36mload_config\u001b[0m:\u001b[36m103\u001b[0m - \u001b[34m\u001b[1mResolved interpolations\u001b[0m\n",
      "\u001b[32m2025-10-17 13:54:37.163\u001b[0m | \u001b[34m\u001b[1mDEBUG   \u001b[0m | \u001b[36mroma_dspy.tools.base.manager\u001b[0m:\u001b[36m_register_toolkit_class\u001b[0m:\u001b[36m119\u001b[0m - \u001b[34m\u001b[1mRegistered toolkit: FileToolkit\u001b[0m\n",
      "\u001b[32m2025-10-17 13:54:37.163\u001b[0m | \u001b[34m\u001b[1mDEBUG   \u001b[0m | \u001b[36mroma_dspy.tools.base.manager\u001b[0m:\u001b[36m_register_toolkit_class\u001b[0m:\u001b[36m119\u001b[0m - \u001b[34m\u001b[1mRegistered toolkit: CalculatorToolkit\u001b[0m\n",
      "\u001b[32m2025-10-17 13:54:37.163\u001b[0m | \u001b[34m\u001b[1mDEBUG   \u001b[0m | \u001b[36mroma_dspy.tools.base.manager\u001b[0m:\u001b[36m_register_toolkit_class\u001b[0m:\u001b[36m119\u001b[0m - \u001b[34m\u001b[1mRegistered toolkit: SerperToolkit\u001b[0m\n",
      "\u001b[32m2025-10-17 13:54:37.164\u001b[0m | \u001b[34m\u001b[1mDEBUG   \u001b[0m | \u001b[36mroma_dspy.tools.base.manager\u001b[0m:\u001b[36m_register_toolkit_class\u001b[0m:\u001b[36m119\u001b[0m - \u001b[34m\u001b[1mRegistered toolkit: E2BToolkit\u001b[0m\n",
      "\u001b[32m2025-10-17 13:54:37.164\u001b[0m | \u001b[34m\u001b[1mDEBUG   \u001b[0m | \u001b[36mroma_dspy.tools.base.manager\u001b[0m:\u001b[36m_register_toolkit_class\u001b[0m:\u001b[36m119\u001b[0m - \u001b[34m\u001b[1mRegistered toolkit: BinanceToolkit\u001b[0m\n",
      "\u001b[32m2025-10-17 13:54:37.164\u001b[0m | \u001b[34m\u001b[1mDEBUG   \u001b[0m | \u001b[36mroma_dspy.tools.base.manager\u001b[0m:\u001b[36m_register_toolkit_class\u001b[0m:\u001b[36m119\u001b[0m - \u001b[34m\u001b[1mRegistered toolkit: CoinGeckoToolkit\u001b[0m\n",
      "\u001b[32m2025-10-17 13:54:37.165\u001b[0m | \u001b[34m\u001b[1mDEBUG   \u001b[0m | \u001b[36mroma_dspy.tools.base.manager\u001b[0m:\u001b[36m_register_toolkit_class\u001b[0m:\u001b[36m119\u001b[0m - \u001b[34m\u001b[1mRegistered toolkit: DefiLlamaToolkit\u001b[0m\n",
      "\u001b[32m2025-10-17 13:54:37.165\u001b[0m | \u001b[34m\u001b[1mDEBUG   \u001b[0m | \u001b[36mroma_dspy.tools.base.manager\u001b[0m:\u001b[36m_register_toolkit_class\u001b[0m:\u001b[36m119\u001b[0m - \u001b[34m\u001b[1mRegistered toolkit: ArkhamToolkit\u001b[0m\n",
      "/Users/salahalzubi/cursor_projects/ROMA-DSPy/src/roma_dspy/config/schemas/root.py:117: UserWarning: Mixed model providers detected. Ensure API keys are configured correctly. OpenRouter models: ['openrouter/google/gemini-2.5-flash-preview-09-2025', 'openrouter/google/gemini-2.5-flash-preview-09-2025'], OpenAI models: ['cerebras/gpt-oss-120b', 'cerebras/gpt-oss-120b', 'gpt-4o-mini'], Anthropic models: [], Other models: []\n",
      "  warnings.warn(\n",
      "\u001b[32m2025-10-17 13:54:37.166\u001b[0m | \u001b[1mINFO    \u001b[0m | \u001b[36mroma_dspy.config.manager\u001b[0m:\u001b[36mload_config\u001b[0m:\u001b[36m110\u001b[0m - \u001b[1mConfiguration loaded and validated successfully\u001b[0m\n"
     ]
    }
   ],
   "source": [
    "import asyncio\n",
    "import dspy\n",
    "from prompt_optimization.seed_prompts import ATOMIZER_PROMPT, PLANNER_PROMPT, AGGREGATOR_PROMPT, ATOMIZER_DEMOS, PLANNER_DEMOS\n",
    "from dspy import GEPA\n",
    "\n",
    "from prompt_optimization import (\n",
    "    get_default_config,\n",
    "    LMConfig,\n",
    "    patch_romaconfig,\n",
    "    load_aimo_datasets,\n",
    "    load_simpleqa_verified_dataset,\n",
    "    load_frames_dataset,\n",
    "    load_seal0_dataset,\n",
    "    ComponentJudge,\n",
    "    MetricWithFeedback,\n",
    "    create_optimizer,\n",
    ")\n",
    "from prompt_optimization.seed_prompts import (\n",
    "    ATOMIZER_PROMPT,\n",
    "    ATOMIZER_DEMOS,\n",
    "    PLANNER_PROMPT,\n",
    "    PLANNER_DEMOS,\n",
    "    AGGREGATOR_PROMPT,\n",
    ")\n",
    "from prompt_optimization.grader_prompt import GRADER_PROMPT\n",
    "from roma_dspy.config import load_config\n",
    "from roma_dspy.core.engine.solve import RecursiveSolver\n",
    "from roma_dspy.core.modules.recursive_solver import RecursiveSolverModule\n",
    "from roma_dspy.utils import AsyncParallelExecutor\n",
    "\n",
    "dspy.settings.provide_traceback = True  # optional but mirrors the old notebook\n",
    "opt_cfg = load_config(profile=\"test\")"
   ]
  },
  {
   "cell_type": "markdown",
   "id": "aa039eb3",
   "metadata": {},
   "source": [
    "### Config LLMS"
   ]
  },
  {
   "cell_type": "code",
   "execution_count": 2,
   "id": "7f020b88",
   "metadata": {},
   "outputs": [],
   "source": [
    "# Batch the knobs you used to tweak in the notebook.\n",
    "opt_cfg.train_size = 32\n",
    "opt_cfg.val_size = 8\n",
    "opt_cfg.test_size = 8\n",
    "opt_cfg.dataset_seed = 42\n",
    "opt_cfg.max_metric_calls = 225\n",
    "opt_cfg.max_depth = 1\n",
    "opt_cfg.enable_logging = False"
   ]
  },
  {
   "cell_type": "code",
   "execution_count": 3,
   "id": "09db50ae",
   "metadata": {},
   "outputs": [],
   "source": [
    "#Add few-shot examples + prompts\n",
    "opt_cfg.agents.atomizer.signature_instructions = ATOMIZER_PROMPT\n",
    "opt_cfg.agents.planner.signature_instructions = PLANNER_PROMPT\n",
    "opt_cfg.agents.aggregator.signature_instructions = AGGREGATOR_PROMPT"
   ]
  },
  {
   "cell_type": "markdown",
   "id": "ba6af57c",
   "metadata": {},
   "source": [
    "### Init solvers and what not"
   ]
  },
  {
   "cell_type": "code",
   "execution_count": 4,
   "id": "700e9d8f",
   "metadata": {},
   "outputs": [
    {
     "name": "stderr",
     "output_type": "stream",
     "text": [
      "\u001b[32m2025-10-17 13:54:42.425\u001b[0m | \u001b[34m\u001b[1mDEBUG   \u001b[0m | \u001b[36mroma_dspy.core.factory.agent_factory\u001b[0m:\u001b[36m_resolve_signature\u001b[0m:\u001b[36m119\u001b[0m - \u001b[34m\u001b[1mUsing default signature for atomizer\u001b[0m\n",
      "\u001b[32m2025-10-17 13:54:42.427\u001b[0m | \u001b[1mINFO    \u001b[0m | \u001b[36mroma_dspy.core.factory.agent_factory\u001b[0m:\u001b[36mcreate_agent\u001b[0m:\u001b[36m91\u001b[0m - \u001b[1mCreated atomizer agent (task_type=default, signature=default)\u001b[0m\n",
      "\u001b[32m2025-10-17 13:54:42.427\u001b[0m | \u001b[34m\u001b[1mDEBUG   \u001b[0m | \u001b[36mroma_dspy.core.registry.agent_registry\u001b[0m:\u001b[36mregister_agent\u001b[0m:\u001b[36m180\u001b[0m - \u001b[34m\u001b[1mRegistered atomizer instance #1 (task_type=default)\u001b[0m\n",
      "\u001b[32m2025-10-17 13:54:42.428\u001b[0m | \u001b[34m\u001b[1mDEBUG   \u001b[0m | \u001b[36mroma_dspy.core.factory.agent_factory\u001b[0m:\u001b[36m_resolve_signature\u001b[0m:\u001b[36m119\u001b[0m - \u001b[34m\u001b[1mUsing default signature for planner\u001b[0m\n",
      "\u001b[32m2025-10-17 13:54:42.429\u001b[0m | \u001b[1mINFO    \u001b[0m | \u001b[36mroma_dspy.core.factory.agent_factory\u001b[0m:\u001b[36mcreate_agent\u001b[0m:\u001b[36m91\u001b[0m - \u001b[1mCreated planner agent (task_type=default, signature=default)\u001b[0m\n",
      "\u001b[32m2025-10-17 13:54:42.430\u001b[0m | \u001b[34m\u001b[1mDEBUG   \u001b[0m | \u001b[36mroma_dspy.core.registry.agent_registry\u001b[0m:\u001b[36mregister_agent\u001b[0m:\u001b[36m180\u001b[0m - \u001b[34m\u001b[1mRegistered planner instance #2 (task_type=default)\u001b[0m\n",
      "\u001b[32m2025-10-17 13:54:42.432\u001b[0m | \u001b[34m\u001b[1mDEBUG   \u001b[0m | \u001b[36mroma_dspy.core.factory.agent_factory\u001b[0m:\u001b[36m_resolve_signature\u001b[0m:\u001b[36m119\u001b[0m - \u001b[34m\u001b[1mUsing default signature for executor\u001b[0m\n",
      "\u001b[32m2025-10-17 13:54:42.433\u001b[0m | \u001b[1mINFO    \u001b[0m | \u001b[36mroma_dspy.core.factory.agent_factory\u001b[0m:\u001b[36mcreate_agent\u001b[0m:\u001b[36m91\u001b[0m - \u001b[1mCreated executor agent (task_type=RETRIEVE, signature=default)\u001b[0m\n",
      "\u001b[32m2025-10-17 13:54:42.433\u001b[0m | \u001b[34m\u001b[1mDEBUG   \u001b[0m | \u001b[36mroma_dspy.core.registry.agent_registry\u001b[0m:\u001b[36mregister_agent\u001b[0m:\u001b[36m180\u001b[0m - \u001b[34m\u001b[1mRegistered executor instance #3 (task_type=RETRIEVE)\u001b[0m\n",
      "\u001b[32m2025-10-17 13:54:42.434\u001b[0m | \u001b[34m\u001b[1mDEBUG   \u001b[0m | \u001b[36mroma_dspy.core.factory.agent_factory\u001b[0m:\u001b[36m_resolve_signature\u001b[0m:\u001b[36m119\u001b[0m - \u001b[34m\u001b[1mUsing default signature for executor\u001b[0m\n",
      "\u001b[32m2025-10-17 13:54:42.436\u001b[0m | \u001b[1mINFO    \u001b[0m | \u001b[36mroma_dspy.core.factory.agent_factory\u001b[0m:\u001b[36mcreate_agent\u001b[0m:\u001b[36m91\u001b[0m - \u001b[1mCreated executor agent (task_type=THINK, signature=default)\u001b[0m\n",
      "\u001b[32m2025-10-17 13:54:42.436\u001b[0m | \u001b[34m\u001b[1mDEBUG   \u001b[0m | \u001b[36mroma_dspy.core.registry.agent_registry\u001b[0m:\u001b[36mregister_agent\u001b[0m:\u001b[36m180\u001b[0m - \u001b[34m\u001b[1mRegistered executor instance #4 (task_type=THINK)\u001b[0m\n",
      "\u001b[32m2025-10-17 13:54:42.437\u001b[0m | \u001b[34m\u001b[1mDEBUG   \u001b[0m | \u001b[36mroma_dspy.core.factory.agent_factory\u001b[0m:\u001b[36m_resolve_signature\u001b[0m:\u001b[36m119\u001b[0m - \u001b[34m\u001b[1mUsing default signature for executor\u001b[0m\n",
      "\u001b[32m2025-10-17 13:54:42.439\u001b[0m | \u001b[1mINFO    \u001b[0m | \u001b[36mroma_dspy.core.factory.agent_factory\u001b[0m:\u001b[36mcreate_agent\u001b[0m:\u001b[36m91\u001b[0m - \u001b[1mCreated executor agent (task_type=WRITE, signature=default)\u001b[0m\n",
      "\u001b[32m2025-10-17 13:54:42.439\u001b[0m | \u001b[34m\u001b[1mDEBUG   \u001b[0m | \u001b[36mroma_dspy.core.registry.agent_registry\u001b[0m:\u001b[36mregister_agent\u001b[0m:\u001b[36m180\u001b[0m - \u001b[34m\u001b[1mRegistered executor instance #5 (task_type=WRITE)\u001b[0m\n",
      "\u001b[32m2025-10-17 13:54:42.440\u001b[0m | \u001b[34m\u001b[1mDEBUG   \u001b[0m | \u001b[36mroma_dspy.core.factory.agent_factory\u001b[0m:\u001b[36m_resolve_signature\u001b[0m:\u001b[36m119\u001b[0m - \u001b[34m\u001b[1mUsing default signature for executor\u001b[0m\n",
      "\u001b[32m2025-10-17 13:54:42.441\u001b[0m | \u001b[1mINFO    \u001b[0m | \u001b[36mroma_dspy.core.factory.agent_factory\u001b[0m:\u001b[36mcreate_agent\u001b[0m:\u001b[36m91\u001b[0m - \u001b[1mCreated executor agent (task_type=default, signature=default)\u001b[0m\n",
      "\u001b[32m2025-10-17 13:54:42.441\u001b[0m | \u001b[34m\u001b[1mDEBUG   \u001b[0m | \u001b[36mroma_dspy.core.registry.agent_registry\u001b[0m:\u001b[36mregister_agent\u001b[0m:\u001b[36m180\u001b[0m - \u001b[34m\u001b[1mRegistered executor instance #6 (task_type=default)\u001b[0m\n",
      "\u001b[32m2025-10-17 13:54:42.442\u001b[0m | \u001b[34m\u001b[1mDEBUG   \u001b[0m | \u001b[36mroma_dspy.core.factory.agent_factory\u001b[0m:\u001b[36m_resolve_signature\u001b[0m:\u001b[36m119\u001b[0m - \u001b[34m\u001b[1mUsing default signature for aggregator\u001b[0m\n",
      "\u001b[32m2025-10-17 13:54:42.443\u001b[0m | \u001b[1mINFO    \u001b[0m | \u001b[36mroma_dspy.core.factory.agent_factory\u001b[0m:\u001b[36mcreate_agent\u001b[0m:\u001b[36m91\u001b[0m - \u001b[1mCreated aggregator agent (task_type=default, signature=default)\u001b[0m\n",
      "\u001b[32m2025-10-17 13:54:42.443\u001b[0m | \u001b[34m\u001b[1mDEBUG   \u001b[0m | \u001b[36mroma_dspy.core.registry.agent_registry\u001b[0m:\u001b[36mregister_agent\u001b[0m:\u001b[36m180\u001b[0m - \u001b[34m\u001b[1mRegistered aggregator instance #7 (task_type=default)\u001b[0m\n",
      "\u001b[32m2025-10-17 13:54:42.443\u001b[0m | \u001b[1mINFO    \u001b[0m | \u001b[36mroma_dspy.core.registry.agent_registry\u001b[0m:\u001b[36minitialize_from_config\u001b[0m:\u001b[36m104\u001b[0m - \u001b[1mInitialized registry with 7 agents. Task-specific: 3, Defaults: 4\u001b[0m\n",
      "\u001b[32m2025-10-17 13:54:42.495\u001b[0m | \u001b[1mINFO    \u001b[0m | \u001b[36mroma_dspy.core.engine.solve\u001b[0m:\u001b[36m_configure_dspy_cache\u001b[0m:\u001b[36m157\u001b[0m - \u001b[1mDSPy cache configured: disk=True, memory=True, dir=.cache/dspy\u001b[0m\n"
     ]
    }
   ],
   "source": [
    "solver = RecursiveSolver(\n",
    "    config=opt_cfg,\n",
    "    max_depth=opt_cfg.max_depth,\n",
    "    enable_logging=opt_cfg.enable_logging,\n",
    "    enable_checkpoints=False,\n",
    ")\n",
    "solver_module = RecursiveSolverModule(solver=solver)"
   ]
  },
  {
   "cell_type": "code",
   "execution_count": 7,
   "id": "492816a1",
   "metadata": {},
   "outputs": [],
   "source": [
    "judge_lm = LMConfig(\"openrouter/anthropic/claude-sonnet-4.5\", temperature=0.75, max_tokens=128000, cache=True)"
   ]
  },
  {
   "cell_type": "code",
   "execution_count": 8,
   "id": "a1bf6afd",
   "metadata": {},
   "outputs": [],
   "source": [
    "judge = ComponentJudge(prompt=GRADER_PROMPT, lm_config=judge_lm)  # keyword required after the refactor\n",
    "metric = MetricWithFeedback(judge)"
   ]
  },
  {
   "cell_type": "code",
   "execution_count": 9,
   "id": "83b667a7",
   "metadata": {},
   "outputs": [],
   "source": [
    "\n",
    "train_set, val_set, test_set = load_frames_dataset(\n",
    "    train_size=opt_cfg.train_size,\n",
    "    val_size=opt_cfg.val_size,\n",
    "    test_size=opt_cfg.test_size,\n",
    "    seed=opt_cfg.dataset_seed,\n",
    ")"
   ]
  },
  {
   "cell_type": "markdown",
   "id": "d25b0d72",
   "metadata": {},
   "source": [
    "### Perform an eval on the val set"
   ]
  },
  {
   "cell_type": "code",
   "execution_count": 10,
   "id": "dcacaefc",
   "metadata": {},
   "outputs": [],
   "source": [
    "# executor = AsyncParallelExecutor(max_concurrency=4)\n",
    "\n",
    "# results = await executor.execute_batch(solver_module, test_set)"
   ]
  },
  {
   "cell_type": "code",
   "execution_count": 11,
   "id": "2d486a4b",
   "metadata": {},
   "outputs": [],
   "source": [
    "# print(results)"
   ]
  },
  {
   "cell_type": "markdown",
   "id": "dc320b30",
   "metadata": {},
   "source": [
    "### Prompt tuning stuff"
   ]
  },
  {
   "cell_type": "code",
   "execution_count": null,
   "id": "e34080e5",
   "metadata": {},
   "outputs": [],
   "source": [
    "optimizer = GEPA(\n",
    "    metric=metric,\n",
    "    # auto=\"light\",\n",
    "    component_selector=\"round_robin\",\n",
    "    max_metric_calls=32,\n",
    "    add_format_failure_as_feedback=True,\n",
    "    num_threads=6,\n",
    "    track_stats=True,\n",
    "    log_dir=\"logs/frames_test\",\n",
    "    # use_wandb=True,\n",
    "    # wandb_init_kwargs={\"project\": \"aime_test\"},\n",
    "    reflection_minibatch_size=8,\n",
    "    reflection_lm=dspy.LM(model=\"openrouter/anthropic/claude-sonnet-4.5\", temperature=.75, max_tokens=128000)\n",
    ")"
   ]
  },
  {
   "cell_type": "code",
   "execution_count": null,
   "id": "85bcee5d",
   "metadata": {},
   "outputs": [],
   "source": [
    "optimized_program = optimizer.compile(\n",
    "    solver_module,\n",
    "    trainset=train_set,\n",
    "    valset=val_set,\n",
    ")"
   ]
  },
  {
   "cell_type": "code",
   "execution_count": null,
   "id": "643db0ac",
   "metadata": {},
   "outputs": [],
   "source": [
    "optimized_program.named_predictors()"
   ]
  },
  {
   "cell_type": "code",
   "execution_count": null,
   "id": "2f25543c",
   "metadata": {},
   "outputs": [],
   "source": []
  }
 ],
 "metadata": {
  "kernelspec": {
   "display_name": ".venv",
   "language": "python",
   "name": "python3"
  },
  "language_info": {
   "codemirror_mode": {
    "name": "ipython",
    "version": 3
   },
   "file_extension": ".py",
   "mimetype": "text/x-python",
   "name": "python",
   "nbconvert_exporter": "python",
   "pygments_lexer": "ipython3",
   "version": "3.12.9"
  }
 },
 "nbformat": 4,
 "nbformat_minor": 5
}
