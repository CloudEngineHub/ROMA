{
 "cells": [
  {
   "cell_type": "markdown",
   "id": "23cf47df",
   "metadata": {},
   "source": [
    "### Imports and loading "
   ]
  },
  {
   "cell_type": "code",
   "execution_count": null,
   "id": "4980bebf",
   "metadata": {},
   "outputs": [],
   "source": [
    "import asyncio\n",
    "import dspy\n",
    "from dspy import GEPA\n",
    "\n",
    "from prompt_optimization.config import (\n",
    "    LMConfig,\n",
    "    get_default_config,\n",
    "    patch_romaconfig,\n",
    ")\n",
    "from prompt_optimization.datasets import (\n",
    "    load_aimo_datasets,\n",
    "    load_frames_dataset,\n",
    "    load_seal0_dataset,\n",
    "    load_simpleqa_verified_dataset,\n",
    ")\n",
    "from prompt_optimization.judge import ComponentJudge\n",
    "from prompt_optimization.metrics import MetricWithFeedback\n",
    "from prompt_optimization.optimizer import create_optimizer\n",
    "from prompt_optimization.prompts import (\n",
    "    AGGREGATOR_PROMPT,\n",
    "    ATOMIZER_DEMOS,\n",
    "    ATOMIZER_PROMPT,\n",
    "    GRADER_PROMPT,\n",
    "    PLANNER_DEMOS,\n",
    "    PLANNER_PROMPT,\n",
    ")\n",
    "from roma_dspy.config import load_config\n",
    "from roma_dspy.core.engine.solve import RecursiveSolver\n",
    "from roma_dspy.core.modules.recursive_solver import RecursiveSolverModule\n",
    "from roma_dspy.utils import AsyncParallelExecutor\n",
    "\n",
    "dspy.settings.provide_traceback = True  # optional but mirrors the old notebook\n",
    "opt_cfg = load_config(profile=\"test\")"
   ]
  },
  {
   "cell_type": "markdown",
   "id": "aa039eb3",
   "metadata": {},
   "source": [
    "### Config LLMS"
   ]
  },
  {
   "cell_type": "code",
   "execution_count": null,
   "id": "7f020b88",
   "metadata": {},
   "outputs": [],
   "source": [
    "# Batch the knobs you used to tweak in the notebook.\n",
    "opt_cfg.train_size = 32\n",
    "opt_cfg.val_size = 8\n",
    "opt_cfg.test_size = 8\n",
    "opt_cfg.dataset_seed = 42\n",
    "opt_cfg.max_metric_calls = 225\n",
    "opt_cfg.max_depth = 1\n",
    "opt_cfg.enable_logging = False"
   ]
  },
  {
   "cell_type": "code",
   "execution_count": null,
   "id": "09db50ae",
   "metadata": {},
   "outputs": [],
   "source": [
    "#Add few-shot examples + prompts\n",
    "opt_cfg.agents.atomizer.signature_instructions = ATOMIZER_PROMPT\n",
    "opt_cfg.agents.planner.signature_instructions = PLANNER_PROMPT\n",
    "opt_cfg.agents.aggregator.signature_instructions = AGGREGATOR_PROMPT"
   ]
  },
  {
   "cell_type": "markdown",
   "id": "ba6af57c",
   "metadata": {},
   "source": [
    "### Init solvers and what not"
   ]
  },
  {
   "cell_type": "code",
   "execution_count": null,
   "id": "700e9d8f",
   "metadata": {},
   "outputs": [],
   "source": [
    "solver = RecursiveSolver(\n",
    "    config=opt_cfg,\n",
    "    max_depth=opt_cfg.max_depth,\n",
    "    enable_logging=opt_cfg.enable_logging,\n",
    "    enable_checkpoints=False,\n",
    ")\n",
    "solver_module = RecursiveSolverModule(solver=solver)"
   ]
  },
  {
   "cell_type": "code",
   "execution_count": null,
   "id": "492816a1",
   "metadata": {},
   "outputs": [],
   "source": [
    "judge_lm = LMConfig(\"openrouter/anthropic/claude-sonnet-4.5\", temperature=0.75, max_tokens=128000, cache=True)"
   ]
  },
  {
   "cell_type": "code",
   "execution_count": null,
   "id": "a1bf6afd",
   "metadata": {},
   "outputs": [],
   "source": [
    "judge = ComponentJudge(prompt=GRADER_PROMPT, lm_config=judge_lm)  # keyword required after the refactor\n",
    "metric = MetricWithFeedback(judge)"
   ]
  },
  {
   "cell_type": "code",
   "execution_count": null,
   "id": "83b667a7",
   "metadata": {},
   "outputs": [],
   "source": [
    "\n",
    "train_set, val_set, test_set = load_frames_dataset(\n",
    "    train_size=opt_cfg.train_size,\n",
    "    val_size=opt_cfg.val_size,\n",
    "    test_size=opt_cfg.test_size,\n",
    "    seed=opt_cfg.dataset_seed,\n",
    ")"
   ]
  },
  {
   "cell_type": "markdown",
   "id": "d25b0d72",
   "metadata": {},
   "source": [
    "### Perform an eval on the val set"
   ]
  },
  {
   "cell_type": "code",
   "execution_count": null,
   "id": "dcacaefc",
   "metadata": {},
   "outputs": [],
   "source": [
    "# executor = AsyncParallelExecutor(max_concurrency=4)\n",
    "\n",
    "# results = await executor.execute_batch(solver_module, test_set)"
   ]
  },
  {
   "cell_type": "code",
   "execution_count": null,
   "id": "2d486a4b",
   "metadata": {},
   "outputs": [],
   "source": [
    "# print(results)"
   ]
  },
  {
   "cell_type": "markdown",
   "id": "dc320b30",
   "metadata": {},
   "source": [
    "### Prompt tuning stuff"
   ]
  },
  {
   "cell_type": "code",
   "execution_count": null,
   "id": "e34080e5",
   "metadata": {},
   "outputs": [],
   "source": [
    "optimizer = GEPA(\n",
    "    metric=metric,\n",
    "    # auto=\"light\",\n",
    "    component_selector=\"round_robin\",\n",
    "    max_metric_calls=32,\n",
    "    add_format_failure_as_feedback=True,\n",
    "    num_threads=6,\n",
    "    track_stats=True,\n",
    "    log_dir=\"logs/frames_test\",\n",
    "    # use_wandb=True,\n",
    "    # wandb_init_kwargs={\"project\": \"aime_test\"},\n",
    "    reflection_minibatch_size=8,\n",
    "    reflection_lm=dspy.LM(model=\"openrouter/anthropic/claude-sonnet-4.5\", temperature=.75, max_tokens=128000)\n",
    ")"
   ]
  },
  {
   "cell_type": "code",
   "execution_count": null,
   "id": "85bcee5d",
   "metadata": {},
   "outputs": [],
   "source": [
    "optimized_program = optimizer.compile(\n",
    "    solver_module,\n",
    "    trainset=train_set,\n",
    "    valset=val_set,\n",
    ")"
   ]
  },
  {
   "cell_type": "code",
   "execution_count": null,
   "id": "643db0ac",
   "metadata": {},
   "outputs": [],
   "source": [
    "optimized_program.named_predictors()"
   ]
  },
  {
   "cell_type": "code",
   "execution_count": null,
   "id": "2f25543c",
   "metadata": {},
   "outputs": [],
   "source": []
  }
 ],
 "metadata": {
  "kernelspec": {
   "display_name": ".venv",
   "language": "python",
   "name": "python3"
  },
  "language_info": {
   "codemirror_mode": {
    "name": "ipython",
    "version": 3
   },
   "file_extension": ".py",
   "mimetype": "text/x-python",
   "name": "python",
   "nbconvert_exporter": "python",
   "pygments_lexer": "ipython3",
   "version": "3.12.9"
  }
 },
 "nbformat": 4,
 "nbformat_minor": 5
}
