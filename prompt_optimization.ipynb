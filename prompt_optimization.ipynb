{
 "cells": [
  {
   "cell_type": "markdown",
   "id": "23cf47df",
   "metadata": {},
   "source": [
    "### Imports and loading "
   ]
  },
  {
   "cell_type": "code",
   "execution_count": null,
   "id": "4980bebf",
   "metadata": {},
   "outputs": [
    {
     "ename": "ImportError",
     "evalue": "cannot import name 'GRADER_PROMPT' from 'prompt_optimization.seed_prompts' (/Users/salahalzubi/cursor_projects/ROMA-DSPy/prompt_optimization/seed_prompts/__init__.py)",
     "output_type": "error",
     "traceback": [
      "\u001b[31m---------------------------------------------------------------------------\u001b[39m",
      "\u001b[31mImportError\u001b[39m                               Traceback (most recent call last)",
      "\u001b[36mCell\u001b[39m\u001b[36m \u001b[39m\u001b[32mIn[15]\u001b[39m\u001b[32m, line 15\u001b[39m\n\u001b[32m      4\u001b[39m \u001b[38;5;28;01mfrom\u001b[39;00m\u001b[38;5;250m \u001b[39m\u001b[34;01mdspy\u001b[39;00m\u001b[38;5;250m \u001b[39m\u001b[38;5;28;01mimport\u001b[39;00m GEPA\n\u001b[32m      6\u001b[39m \u001b[38;5;28;01mfrom\u001b[39;00m\u001b[38;5;250m \u001b[39m\u001b[34;01mprompt_optimization\u001b[39;00m\u001b[38;5;250m \u001b[39m\u001b[38;5;28;01mimport\u001b[39;00m (\n\u001b[32m      7\u001b[39m     get_default_config,\n\u001b[32m      8\u001b[39m     LMConfig,\n\u001b[32m   (...)\u001b[39m\u001b[32m     13\u001b[39m     create_optimizer,\n\u001b[32m     14\u001b[39m )\n\u001b[32m---> \u001b[39m\u001b[32m15\u001b[39m \u001b[38;5;28;01mfrom\u001b[39;00m\u001b[38;5;250m \u001b[39m\u001b[34;01mprompt_optimization\u001b[39;00m\u001b[34;01m.\u001b[39;00m\u001b[34;01mseed_prompts\u001b[39;00m\u001b[38;5;250m \u001b[39m\u001b[38;5;28;01mimport\u001b[39;00m (\n\u001b[32m     16\u001b[39m     ATOMIZER_PROMPT,\n\u001b[32m     17\u001b[39m     ATOMIZER_DEMOS,\n\u001b[32m     18\u001b[39m     PLANNER_PROMPT,\n\u001b[32m     19\u001b[39m     PLANNER_DEMOS,\n\u001b[32m     20\u001b[39m     AGGREGATOR_PROMPT,\n\u001b[32m     21\u001b[39m     GRADER_PROMPT,\n\u001b[32m     22\u001b[39m )\n\u001b[32m     23\u001b[39m \u001b[38;5;28;01mfrom\u001b[39;00m\u001b[38;5;250m \u001b[39m\u001b[34;01mroma_dspy\u001b[39;00m\u001b[34;01m.\u001b[39;00m\u001b[34;01mconfig\u001b[39;00m\u001b[38;5;250m \u001b[39m\u001b[38;5;28;01mimport\u001b[39;00m load_config\n\u001b[32m     24\u001b[39m \u001b[38;5;28;01mfrom\u001b[39;00m\u001b[38;5;250m \u001b[39m\u001b[34;01mroma_dspy\u001b[39;00m\u001b[34;01m.\u001b[39;00m\u001b[34;01mcore\u001b[39;00m\u001b[34;01m.\u001b[39;00m\u001b[34;01mengine\u001b[39;00m\u001b[34;01m.\u001b[39;00m\u001b[34;01msolve\u001b[39;00m\u001b[38;5;250m \u001b[39m\u001b[38;5;28;01mimport\u001b[39;00m RecursiveSolver\n",
      "\u001b[31mImportError\u001b[39m: cannot import name 'GRADER_PROMPT' from 'prompt_optimization.seed_prompts' (/Users/salahalzubi/cursor_projects/ROMA-DSPy/prompt_optimization/seed_prompts/__init__.py)"
     ]
    }
   ],
   "source": [
    "import asyncio\n",
    "import dspy\n",
    "from prompt_optimization.seed_prompts import ATOMIZER_PROMPT, PLANNER_PROMPT, AGGREGATOR_PROMPT, ATOMIZER_DEMOS, PLANNER_DEMOS\n",
    "from dspy import GEPA\n",
    "\n",
    "from prompt_optimization import (\n",
    "    get_default_config,\n",
    "    LMConfig,\n",
    "    patch_romaconfig,\n",
    "    load_aimo_datasets,\n",
    "    ComponentJudge,\n",
    "    MetricWithFeedback,\n",
    "    create_optimizer,\n",
    ")\n",
    "from prompt_optimization.seed_prompts import (\n",
    "    ATOMIZER_PROMPT,\n",
    "    ATOMIZER_DEMOS,\n",
    "    PLANNER_PROMPT,\n",
    "    PLANNER_DEMOS,\n",
    "    AGGREGATOR_PROMPT,\n",
    ")\n",
    "from prompt_optimization.grader_prompt import GRADER_PROMPT\n",
    "from roma_dspy.config import load_config\n",
    "from roma_dspy.core.engine.solve import RecursiveSolver\n",
    "from roma_dspy.core.modules.recursive_solver import RecursiveSolverModule\n",
    "from roma_dspy.utils import AsyncParallelExecutor\n",
    "\n",
    "dspy.settings.provide_traceback = True  # optional but mirrors the old notebook\n",
    "opt_cfg = load_config(profile=\"test\")"
   ]
  },
  {
   "cell_type": "markdown",
   "id": "aa039eb3",
   "metadata": {},
   "source": [
    "### Config LLMS"
   ]
  },
  {
   "cell_type": "code",
   "execution_count": 11,
   "id": "7f020b88",
   "metadata": {},
   "outputs": [],
   "source": [
    "# Batch the knobs you used to tweak in the notebook.\n",
    "opt_cfg.train_size = 32\n",
    "opt_cfg.val_size = 8\n",
    "opt_cfg.test_size = 8\n",
    "opt_cfg.dataset_seed = 42\n",
    "opt_cfg.max_metric_calls = 225\n",
    "opt_cfg.max_depth = 1\n",
    "opt_cfg.enable_logging = False"
   ]
  },
  {
   "cell_type": "code",
   "execution_count": 12,
   "id": "09db50ae",
   "metadata": {},
   "outputs": [],
   "source": [
    "#Add few-shot examples + prompts\n",
    "opt_cfg.agents.atomizer.signature_instructions = ATOMIZER_PROMPT\n",
    "opt_cfg.agents.planner.signature_instructions = PLANNER_PROMPT\n",
    "opt_cfg.agents.aggregator.signature_instructions = AGGREGATOR_PROMPT"
   ]
  },
  {
   "cell_type": "markdown",
   "id": "ba6af57c",
   "metadata": {},
   "source": [
    "### Init solvers and what not"
   ]
  },
  {
   "cell_type": "code",
   "execution_count": 13,
   "id": "700e9d8f",
   "metadata": {},
   "outputs": [
    {
     "name": "stderr",
     "output_type": "stream",
     "text": [
      "\u001b[32m2025-10-17 11:00:26.553\u001b[0m | \u001b[34m\u001b[1mDEBUG   \u001b[0m | \u001b[36mroma_dspy.core.factory.agent_factory\u001b[0m:\u001b[36m_resolve_signature\u001b[0m:\u001b[36m119\u001b[0m - \u001b[34m\u001b[1mUsing default signature for atomizer\u001b[0m\n",
      "\u001b[32m2025-10-17 11:00:26.554\u001b[0m | \u001b[1mINFO    \u001b[0m | \u001b[36mroma_dspy.core.factory.agent_factory\u001b[0m:\u001b[36mcreate_agent\u001b[0m:\u001b[36m91\u001b[0m - \u001b[1mCreated atomizer agent (task_type=default, signature=default)\u001b[0m\n",
      "\u001b[32m2025-10-17 11:00:26.556\u001b[0m | \u001b[34m\u001b[1mDEBUG   \u001b[0m | \u001b[36mroma_dspy.core.registry.agent_registry\u001b[0m:\u001b[36mregister_agent\u001b[0m:\u001b[36m180\u001b[0m - \u001b[34m\u001b[1mRegistered atomizer instance #15 (task_type=default)\u001b[0m\n",
      "\u001b[32m2025-10-17 11:00:26.557\u001b[0m | \u001b[34m\u001b[1mDEBUG   \u001b[0m | \u001b[36mroma_dspy.core.factory.agent_factory\u001b[0m:\u001b[36m_resolve_signature\u001b[0m:\u001b[36m119\u001b[0m - \u001b[34m\u001b[1mUsing default signature for planner\u001b[0m\n",
      "\u001b[32m2025-10-17 11:00:26.559\u001b[0m | \u001b[1mINFO    \u001b[0m | \u001b[36mroma_dspy.core.factory.agent_factory\u001b[0m:\u001b[36mcreate_agent\u001b[0m:\u001b[36m91\u001b[0m - \u001b[1mCreated planner agent (task_type=default, signature=default)\u001b[0m\n",
      "\u001b[32m2025-10-17 11:00:26.559\u001b[0m | \u001b[34m\u001b[1mDEBUG   \u001b[0m | \u001b[36mroma_dspy.core.registry.agent_registry\u001b[0m:\u001b[36mregister_agent\u001b[0m:\u001b[36m180\u001b[0m - \u001b[34m\u001b[1mRegistered planner instance #16 (task_type=default)\u001b[0m\n",
      "\u001b[32m2025-10-17 11:00:26.560\u001b[0m | \u001b[34m\u001b[1mDEBUG   \u001b[0m | \u001b[36mroma_dspy.core.factory.agent_factory\u001b[0m:\u001b[36m_resolve_signature\u001b[0m:\u001b[36m119\u001b[0m - \u001b[34m\u001b[1mUsing default signature for executor\u001b[0m\n",
      "\u001b[32m2025-10-17 11:00:26.561\u001b[0m | \u001b[1mINFO    \u001b[0m | \u001b[36mroma_dspy.core.factory.agent_factory\u001b[0m:\u001b[36mcreate_agent\u001b[0m:\u001b[36m91\u001b[0m - \u001b[1mCreated executor agent (task_type=RETRIEVE, signature=default)\u001b[0m\n",
      "\u001b[32m2025-10-17 11:00:26.562\u001b[0m | \u001b[34m\u001b[1mDEBUG   \u001b[0m | \u001b[36mroma_dspy.core.registry.agent_registry\u001b[0m:\u001b[36mregister_agent\u001b[0m:\u001b[36m180\u001b[0m - \u001b[34m\u001b[1mRegistered executor instance #17 (task_type=RETRIEVE)\u001b[0m\n",
      "\u001b[32m2025-10-17 11:00:26.563\u001b[0m | \u001b[34m\u001b[1mDEBUG   \u001b[0m | \u001b[36mroma_dspy.core.factory.agent_factory\u001b[0m:\u001b[36m_resolve_signature\u001b[0m:\u001b[36m119\u001b[0m - \u001b[34m\u001b[1mUsing default signature for executor\u001b[0m\n",
      "\u001b[32m2025-10-17 11:00:26.564\u001b[0m | \u001b[1mINFO    \u001b[0m | \u001b[36mroma_dspy.core.factory.agent_factory\u001b[0m:\u001b[36mcreate_agent\u001b[0m:\u001b[36m91\u001b[0m - \u001b[1mCreated executor agent (task_type=THINK, signature=default)\u001b[0m\n",
      "\u001b[32m2025-10-17 11:00:26.565\u001b[0m | \u001b[34m\u001b[1mDEBUG   \u001b[0m | \u001b[36mroma_dspy.core.registry.agent_registry\u001b[0m:\u001b[36mregister_agent\u001b[0m:\u001b[36m180\u001b[0m - \u001b[34m\u001b[1mRegistered executor instance #18 (task_type=THINK)\u001b[0m\n",
      "\u001b[32m2025-10-17 11:00:26.566\u001b[0m | \u001b[34m\u001b[1mDEBUG   \u001b[0m | \u001b[36mroma_dspy.core.factory.agent_factory\u001b[0m:\u001b[36m_resolve_signature\u001b[0m:\u001b[36m119\u001b[0m - \u001b[34m\u001b[1mUsing default signature for executor\u001b[0m\n",
      "\u001b[32m2025-10-17 11:00:26.567\u001b[0m | \u001b[1mINFO    \u001b[0m | \u001b[36mroma_dspy.core.factory.agent_factory\u001b[0m:\u001b[36mcreate_agent\u001b[0m:\u001b[36m91\u001b[0m - \u001b[1mCreated executor agent (task_type=WRITE, signature=default)\u001b[0m\n",
      "\u001b[32m2025-10-17 11:00:26.568\u001b[0m | \u001b[34m\u001b[1mDEBUG   \u001b[0m | \u001b[36mroma_dspy.core.registry.agent_registry\u001b[0m:\u001b[36mregister_agent\u001b[0m:\u001b[36m180\u001b[0m - \u001b[34m\u001b[1mRegistered executor instance #19 (task_type=WRITE)\u001b[0m\n",
      "\u001b[32m2025-10-17 11:00:26.568\u001b[0m | \u001b[34m\u001b[1mDEBUG   \u001b[0m | \u001b[36mroma_dspy.core.factory.agent_factory\u001b[0m:\u001b[36m_resolve_signature\u001b[0m:\u001b[36m119\u001b[0m - \u001b[34m\u001b[1mUsing default signature for executor\u001b[0m\n",
      "\u001b[32m2025-10-17 11:00:26.570\u001b[0m | \u001b[1mINFO    \u001b[0m | \u001b[36mroma_dspy.core.factory.agent_factory\u001b[0m:\u001b[36mcreate_agent\u001b[0m:\u001b[36m91\u001b[0m - \u001b[1mCreated executor agent (task_type=default, signature=default)\u001b[0m\n",
      "\u001b[32m2025-10-17 11:00:26.570\u001b[0m | \u001b[34m\u001b[1mDEBUG   \u001b[0m | \u001b[36mroma_dspy.core.registry.agent_registry\u001b[0m:\u001b[36mregister_agent\u001b[0m:\u001b[36m180\u001b[0m - \u001b[34m\u001b[1mRegistered executor instance #20 (task_type=default)\u001b[0m\n",
      "\u001b[32m2025-10-17 11:00:26.571\u001b[0m | \u001b[34m\u001b[1mDEBUG   \u001b[0m | \u001b[36mroma_dspy.core.factory.agent_factory\u001b[0m:\u001b[36m_resolve_signature\u001b[0m:\u001b[36m119\u001b[0m - \u001b[34m\u001b[1mUsing default signature for aggregator\u001b[0m\n",
      "\u001b[32m2025-10-17 11:00:26.572\u001b[0m | \u001b[1mINFO    \u001b[0m | \u001b[36mroma_dspy.core.factory.agent_factory\u001b[0m:\u001b[36mcreate_agent\u001b[0m:\u001b[36m91\u001b[0m - \u001b[1mCreated aggregator agent (task_type=default, signature=default)\u001b[0m\n",
      "\u001b[32m2025-10-17 11:00:26.573\u001b[0m | \u001b[34m\u001b[1mDEBUG   \u001b[0m | \u001b[36mroma_dspy.core.registry.agent_registry\u001b[0m:\u001b[36mregister_agent\u001b[0m:\u001b[36m180\u001b[0m - \u001b[34m\u001b[1mRegistered aggregator instance #21 (task_type=default)\u001b[0m\n",
      "\u001b[32m2025-10-17 11:00:26.573\u001b[0m | \u001b[1mINFO    \u001b[0m | \u001b[36mroma_dspy.core.registry.agent_registry\u001b[0m:\u001b[36minitialize_from_config\u001b[0m:\u001b[36m104\u001b[0m - \u001b[1mInitialized registry with 7 agents. Task-specific: 3, Defaults: 4\u001b[0m\n",
      "\u001b[32m2025-10-17 11:00:26.600\u001b[0m | \u001b[1mINFO    \u001b[0m | \u001b[36mroma_dspy.core.engine.solve\u001b[0m:\u001b[36m_configure_dspy_cache\u001b[0m:\u001b[36m157\u001b[0m - \u001b[1mDSPy cache configured: disk=True, memory=True, dir=.cache/dspy\u001b[0m\n"
     ]
    }
   ],
   "source": [
    "solver = RecursiveSolver(\n",
    "    config=opt_cfg,\n",
    "    max_depth=opt_cfg.max_depth,\n",
    "    enable_logging=opt_cfg.enable_logging,\n",
    "    enable_checkpoints=False,\n",
    ")\n",
    "solver_module = RecursiveSolverModule(solver=solver)"
   ]
  },
  {
   "cell_type": "code",
   "execution_count": null,
   "id": "492816a1",
   "metadata": {},
   "outputs": [],
   "source": [
    "judge_lm = LMConfig(\"openrouter/openai/gpt-5\", temperature=1.0, max_tokens=128000, cache=True)\n"
   ]
  },
  {
   "cell_type": "code",
   "execution_count": null,
   "id": "a1bf6afd",
   "metadata": {},
   "outputs": [
    {
     "ename": "AttributeError",
     "evalue": "'ROMAConfig' object has no attribute 'judge_lm'",
     "output_type": "error",
     "traceback": [
      "\u001b[31m---------------------------------------------------------------------------\u001b[39m",
      "\u001b[31mAttributeError\u001b[39m                            Traceback (most recent call last)",
      "\u001b[36mCell\u001b[39m\u001b[36m \u001b[39m\u001b[32mIn[14]\u001b[39m\u001b[32m, line 1\u001b[39m\n\u001b[32m----> \u001b[39m\u001b[32m1\u001b[39m judge = ComponentJudge(lm_config=\u001b[43mopt_cfg\u001b[49m\u001b[43m.\u001b[49m\u001b[43mjudge_lm\u001b[49m)  \u001b[38;5;66;03m# keyword required after the refactor\u001b[39;00m\n\u001b[32m      2\u001b[39m metric = MetricWithFeedback(judge)\n",
      "\u001b[31mAttributeError\u001b[39m: 'ROMAConfig' object has no attribute 'judge_lm'"
     ]
    }
   ],
   "source": [
    "judge = ComponentJudge(prompt=GRADER_PROMPT, lm_config=judge_lm)  # keyword required after the refactor\n",
    "metric = MetricWithFeedback(judge)"
   ]
  },
  {
   "cell_type": "code",
   "execution_count": null,
   "id": "83b667a7",
   "metadata": {},
   "outputs": [],
   "source": [
    "train_set, val_set, test_set = load_aimo_datasets(\n",
    "    train_size=opt_cfg.train_size,\n",
    "    val_size=opt_cfg.val_size,\n",
    "    test_size=opt_cfg.test_size,\n",
    "    seed=opt_cfg.dataset_seed,\n",
    ")"
   ]
  },
  {
   "cell_type": "markdown",
   "id": "d25b0d72",
   "metadata": {},
   "source": [
    "### Perform an eval on the val set"
   ]
  },
  {
   "cell_type": "code",
   "execution_count": null,
   "id": "dcacaefc",
   "metadata": {},
   "outputs": [],
   "source": [
    "# executor = AsyncParallelExecutor(max_concurrency=4)\n",
    "\n",
    "# results = await executor.execute_batch(solver_module, test_set)"
   ]
  },
  {
   "cell_type": "code",
   "execution_count": null,
   "id": "2d486a4b",
   "metadata": {},
   "outputs": [],
   "source": [
    "# print(results)"
   ]
  },
  {
   "cell_type": "markdown",
   "id": "dc320b30",
   "metadata": {},
   "source": [
    "### Prompt tuning stuff"
   ]
  },
  {
   "cell_type": "code",
   "execution_count": null,
   "id": "e34080e5",
   "metadata": {},
   "outputs": [],
   "source": [
    "optimizer = GEPA(\n",
    "    metric=metric,\n",
    "    # auto=\"light\",\n",
    "    component_selector=\"round_robin\",\n",
    "    max_metric_calls=24,\n",
    "    add_format_failure_as_feedback=True,\n",
    "    num_threads=6,\n",
    "    track_stats=True,\n",
    "    log_dir=\"logs/aime_test\",\n",
    "    # use_wandb=True,\n",
    "    # wandb_init_kwargs={\"project\": \"aime_test\"},\n",
    "    reflection_minibatch_size=8,\n",
    "    reflection_lm=dspy.LM(model=\"openrouter/anthropic/claude-sonnet-4.5\", temperature=.75, max_tokens=128000)\n",
    ")"
   ]
  },
  {
   "cell_type": "code",
   "execution_count": null,
   "id": "85bcee5d",
   "metadata": {},
   "outputs": [],
   "source": [
    "optimized_program = optimizer.compile(\n",
    "    solver_module,\n",
    "    trainset=train_set,\n",
    "    valset=val_set,\n",
    ")"
   ]
  },
  {
   "cell_type": "code",
   "execution_count": null,
   "id": "6416bde3",
   "metadata": {},
   "outputs": [],
   "source": [
    "print(optimized_program.named_predictors()[1][1].signature.instructions)"
   ]
  },
  {
   "cell_type": "code",
   "execution_count": null,
   "id": "643db0ac",
   "metadata": {},
   "outputs": [],
   "source": []
  }
 ],
 "metadata": {
  "kernelspec": {
   "display_name": ".venv",
   "language": "python",
   "name": "python3"
  },
  "language_info": {
   "codemirror_mode": {
    "name": "ipython",
    "version": 3
   },
   "file_extension": ".py",
   "mimetype": "text/x-python",
   "name": "python",
   "nbconvert_exporter": "python",
   "pygments_lexer": "ipython3",
   "version": "3.12.9"
  }
 },
 "nbformat": 4,
 "nbformat_minor": 5
}
