{
 "cells": [
  {
   "cell_type": "code",
   "execution_count": null,
   "id": "75427881",
   "metadata": {},
   "outputs": [
    {
     "ename": "TypeError",
     "evalue": "ReAct.__init__() missing 1 required positional argument: 'tools'",
     "output_type": "error",
     "traceback": [
      "\u001b[31m---------------------------------------------------------------------------\u001b[39m",
      "\u001b[31mTypeError\u001b[39m                                 Traceback (most recent call last)",
      "\u001b[36mCell\u001b[39m\u001b[36m \u001b[39m\u001b[32mIn[18]\u001b[39m\u001b[32m, line 8\u001b[39m\n\u001b[32m      5\u001b[39m \u001b[38;5;28;01mfrom\u001b[39;00m\u001b[38;5;250m \u001b[39m\u001b[34;01msrc\u001b[39;00m\u001b[34;01m.\u001b[39;00m\u001b[34;01mroma_dspy\u001b[39;00m\u001b[34;01m.\u001b[39;00m\u001b[34;01mmodules\u001b[39;00m\u001b[34;01m.\u001b[39;00m\u001b[34;01maggregator\u001b[39;00m\u001b[38;5;250m \u001b[39m\u001b[38;5;28;01mimport\u001b[39;00m Aggregator\n\u001b[32m      7\u001b[39m executor_lm = dspy.LM(\u001b[33m\"\u001b[39m\u001b[33mfireworks_ai/accounts/fireworks/models/kimi-k2-instruct-0905\u001b[39m\u001b[33m\"\u001b[39m, temperature=\u001b[32m0.7\u001b[39m, cache=\u001b[38;5;28;01mTrue\u001b[39;00m)\n\u001b[32m----> \u001b[39m\u001b[32m8\u001b[39m executor = \u001b[43mExecutor\u001b[49m\u001b[43m(\u001b[49m\u001b[43mlm\u001b[49m\u001b[43m=\u001b[49m\u001b[43mexecutor_lm\u001b[49m\u001b[43m,\u001b[49m\u001b[43m \u001b[49m\u001b[43mprediction_strategy\u001b[49m\u001b[43m=\u001b[49m\u001b[33;43m'\u001b[39;49m\u001b[33;43mreact\u001b[39;49m\u001b[33;43m'\u001b[39;49m\u001b[43m,\u001b[49m\u001b[43m \u001b[49m\u001b[43mcontext_defaults\u001b[49m\u001b[43m=\u001b[49m\u001b[43m{\u001b[49m\u001b[33;43m'\u001b[39;49m\u001b[33;43mtrack_usage\u001b[39;49m\u001b[33;43m'\u001b[39;49m\u001b[43m:\u001b[49m\u001b[43m \u001b[49m\u001b[38;5;28;43;01mTrue\u001b[39;49;00m\u001b[43m}\u001b[49m\u001b[43m)\u001b[49m\n\u001b[32m     10\u001b[39m atomizer_lm = dspy.LM(\u001b[33m\"\u001b[39m\u001b[33mopenrouter/google/gemini-2.5-flash\u001b[39m\u001b[33m\"\u001b[39m, temperature=\u001b[32m0.6\u001b[39m, cache=\u001b[38;5;28;01mTrue\u001b[39;00m)\n\u001b[32m     11\u001b[39m atomizer = Atomizer(lm=atomizer_lm, prediction_strategy=\u001b[33m'\u001b[39m\u001b[33mcot\u001b[39m\u001b[33m'\u001b[39m, context_defaults={\u001b[33m'\u001b[39m\u001b[33mtrack_usage\u001b[39m\u001b[33m'\u001b[39m: \u001b[38;5;28;01mTrue\u001b[39;00m})\n",
      "\u001b[36mFile \u001b[39m\u001b[32m~/cursor_projects/ROMA-DSPy/.venv/lib/python3.12/site-packages/dspy/primitives/module.py:29\u001b[39m, in \u001b[36mProgramMeta.__call__\u001b[39m\u001b[34m(cls, *args, **kwargs)\u001b[39m\n\u001b[32m     25\u001b[39m \u001b[38;5;28;01mif\u001b[39;00m \u001b[38;5;28misinstance\u001b[39m(obj, \u001b[38;5;28mcls\u001b[39m):\n\u001b[32m     26\u001b[39m     \u001b[38;5;66;03m# ``_base_init`` sets attributes that should exist on all modules\u001b[39;00m\n\u001b[32m     27\u001b[39m     \u001b[38;5;66;03m# even when a subclass forgets to call ``super().__init__``.\u001b[39;00m\n\u001b[32m     28\u001b[39m     Module._base_init(obj)\n\u001b[32m---> \u001b[39m\u001b[32m29\u001b[39m     \u001b[38;5;28;43mcls\u001b[39;49m\u001b[43m.\u001b[49m\u001b[34;43m__init__\u001b[39;49m\u001b[43m(\u001b[49m\u001b[43mobj\u001b[49m\u001b[43m,\u001b[49m\u001b[43m \u001b[49m\u001b[43m*\u001b[49m\u001b[43margs\u001b[49m\u001b[43m,\u001b[49m\u001b[43m \u001b[49m\u001b[43m*\u001b[49m\u001b[43m*\u001b[49m\u001b[43mkwargs\u001b[49m\u001b[43m)\u001b[49m\n\u001b[32m     31\u001b[39m     \u001b[38;5;66;03m# Guarantee existence of critical attributes if ``__init__`` didn't\u001b[39;00m\n\u001b[32m     32\u001b[39m     \u001b[38;5;66;03m# create them.\u001b[39;00m\n\u001b[32m     33\u001b[39m     \u001b[38;5;28;01mif\u001b[39;00m \u001b[38;5;129;01mnot\u001b[39;00m \u001b[38;5;28mhasattr\u001b[39m(obj, \u001b[33m\"\u001b[39m\u001b[33mcallbacks\u001b[39m\u001b[33m\"\u001b[39m):\n",
      "\u001b[36mFile \u001b[39m\u001b[32m~/cursor_projects/ROMA-DSPy/src/roma_dspy/modules/executor.py:26\u001b[39m, in \u001b[36mExecutor.__init__\u001b[39m\u001b[34m(self, prediction_strategy, lm, model, model_config, tools, **strategy_kwargs)\u001b[39m\n\u001b[32m     16\u001b[39m \u001b[38;5;28;01mdef\u001b[39;00m\u001b[38;5;250m \u001b[39m\u001b[34m__init__\u001b[39m(\n\u001b[32m     17\u001b[39m     \u001b[38;5;28mself\u001b[39m,\n\u001b[32m     18\u001b[39m     prediction_strategy: Union[PredictionStrategy, \u001b[38;5;28mstr\u001b[39m] = PredictionStrategy.CHAIN_OF_THOUGHT,\n\u001b[32m   (...)\u001b[39m\u001b[32m     24\u001b[39m     **strategy_kwargs: Any,\n\u001b[32m     25\u001b[39m ) -> \u001b[38;5;28;01mNone\u001b[39;00m:\n\u001b[32m---> \u001b[39m\u001b[32m26\u001b[39m     \u001b[38;5;28;43msuper\u001b[39;49m\u001b[43m(\u001b[49m\u001b[43m)\u001b[49m\u001b[43m.\u001b[49m\u001b[34;43m__init__\u001b[39;49m\u001b[43m(\u001b[49m\n\u001b[32m     27\u001b[39m \u001b[43m        \u001b[49m\u001b[43msignature\u001b[49m\u001b[43m=\u001b[49m\u001b[43mExecutorSignature\u001b[49m\u001b[43m,\u001b[49m\n\u001b[32m     28\u001b[39m \u001b[43m        \u001b[49m\u001b[43mprediction_strategy\u001b[49m\u001b[43m=\u001b[49m\u001b[43mprediction_strategy\u001b[49m\u001b[43m,\u001b[49m\n\u001b[32m     29\u001b[39m \u001b[43m        \u001b[49m\u001b[43mlm\u001b[49m\u001b[43m=\u001b[49m\u001b[43mlm\u001b[49m\u001b[43m,\u001b[49m\n\u001b[32m     30\u001b[39m \u001b[43m        \u001b[49m\u001b[43mmodel\u001b[49m\u001b[43m=\u001b[49m\u001b[43mmodel\u001b[49m\u001b[43m,\u001b[49m\n\u001b[32m     31\u001b[39m \u001b[43m        \u001b[49m\u001b[43mmodel_config\u001b[49m\u001b[43m=\u001b[49m\u001b[43mmodel_config\u001b[49m\u001b[43m,\u001b[49m\n\u001b[32m     32\u001b[39m \u001b[43m        \u001b[49m\u001b[43mtools\u001b[49m\u001b[43m=\u001b[49m\u001b[43mtools\u001b[49m\u001b[43m,\u001b[49m\n\u001b[32m     33\u001b[39m \u001b[43m        \u001b[49m\u001b[43m*\u001b[49m\u001b[43m*\u001b[49m\u001b[43mstrategy_kwargs\u001b[49m\u001b[43m,\u001b[49m\n\u001b[32m     34\u001b[39m \u001b[43m    \u001b[49m\u001b[43m)\u001b[49m\n",
      "\u001b[36mFile \u001b[39m\u001b[32m~/cursor_projects/ROMA-DSPy/src/roma_dspy/modules/base_module.py:45\u001b[39m, in \u001b[36mBaseModule.__init__\u001b[39m\u001b[34m(self, signature, prediction_strategy, lm, model, model_config, tools, context_defaults, **strategy_kwargs)\u001b[39m\n\u001b[32m     42\u001b[39m \u001b[38;5;28;01mif\u001b[39;00m prediction_strategy \u001b[38;5;129;01min\u001b[39;00m (PredictionStrategy.REACT, PredictionStrategy.CODE_ACT) \u001b[38;5;129;01mand\u001b[39;00m \u001b[38;5;28mself\u001b[39m._tools:\n\u001b[32m     43\u001b[39m     build_kwargs.setdefault(\u001b[33m\"\u001b[39m\u001b[33mtools\u001b[39m\u001b[33m\"\u001b[39m, \u001b[38;5;28mself\u001b[39m._tools)\n\u001b[32m---> \u001b[39m\u001b[32m45\u001b[39m \u001b[38;5;28mself\u001b[39m._predictor = \u001b[43mprediction_strategy\u001b[49m\u001b[43m.\u001b[49m\u001b[43mbuild\u001b[49m\u001b[43m(\u001b[49m\u001b[38;5;28;43mself\u001b[39;49m\u001b[43m.\u001b[49m\u001b[43msignature\u001b[49m\u001b[43m,\u001b[49m\u001b[43m \u001b[49m\u001b[43m*\u001b[49m\u001b[43m*\u001b[49m\u001b[43mbuild_kwargs\u001b[49m\u001b[43m)\u001b[49m\n\u001b[32m     47\u001b[39m \u001b[38;5;28;01mif\u001b[39;00m lm \u001b[38;5;129;01mis\u001b[39;00m \u001b[38;5;129;01mnot\u001b[39;00m \u001b[38;5;28;01mNone\u001b[39;00m \u001b[38;5;129;01mand\u001b[39;00m model \u001b[38;5;129;01mis\u001b[39;00m \u001b[38;5;129;01mnot\u001b[39;00m \u001b[38;5;28;01mNone\u001b[39;00m:\n\u001b[32m     48\u001b[39m     \u001b[38;5;28;01mpass\u001b[39;00m\n",
      "\u001b[36mFile \u001b[39m\u001b[32m~/cursor_projects/ROMA-DSPy/src/roma_dspy/types/prediction_strategy.py:71\u001b[39m, in \u001b[36mPredictionStrategy.build\u001b[39m\u001b[34m(self, signature, **kwargs)\u001b[39m\n\u001b[32m     69\u001b[39m \u001b[38;5;28;01mif\u001b[39;00m \u001b[38;5;28mself\u001b[39m \u001b[38;5;129;01mis\u001b[39;00m PredictionStrategy.MAJORITY:\n\u001b[32m     70\u001b[39m     \u001b[38;5;28;01mreturn\u001b[39;00m fn  \u001b[38;5;66;03m# majority is a function (aggregator)\u001b[39;00m\n\u001b[32m---> \u001b[39m\u001b[32m71\u001b[39m \u001b[38;5;28;01mreturn\u001b[39;00m \u001b[43mfn\u001b[49m\u001b[43m(\u001b[49m\u001b[43msignature\u001b[49m\u001b[43m,\u001b[49m\u001b[43m \u001b[49m\u001b[43m*\u001b[49m\u001b[43m*\u001b[49m\u001b[43mkwargs\u001b[49m\u001b[43m)\u001b[49m\n",
      "\u001b[36mFile \u001b[39m\u001b[32m~/cursor_projects/ROMA-DSPy/.venv/lib/python3.12/site-packages/dspy/primitives/module.py:29\u001b[39m, in \u001b[36mProgramMeta.__call__\u001b[39m\u001b[34m(cls, *args, **kwargs)\u001b[39m\n\u001b[32m     25\u001b[39m \u001b[38;5;28;01mif\u001b[39;00m \u001b[38;5;28misinstance\u001b[39m(obj, \u001b[38;5;28mcls\u001b[39m):\n\u001b[32m     26\u001b[39m     \u001b[38;5;66;03m# ``_base_init`` sets attributes that should exist on all modules\u001b[39;00m\n\u001b[32m     27\u001b[39m     \u001b[38;5;66;03m# even when a subclass forgets to call ``super().__init__``.\u001b[39;00m\n\u001b[32m     28\u001b[39m     Module._base_init(obj)\n\u001b[32m---> \u001b[39m\u001b[32m29\u001b[39m     \u001b[38;5;28;43mcls\u001b[39;49m\u001b[43m.\u001b[49m\u001b[34;43m__init__\u001b[39;49m\u001b[43m(\u001b[49m\u001b[43mobj\u001b[49m\u001b[43m,\u001b[49m\u001b[43m \u001b[49m\u001b[43m*\u001b[49m\u001b[43margs\u001b[49m\u001b[43m,\u001b[49m\u001b[43m \u001b[49m\u001b[43m*\u001b[49m\u001b[43m*\u001b[49m\u001b[43mkwargs\u001b[49m\u001b[43m)\u001b[49m\n\u001b[32m     31\u001b[39m     \u001b[38;5;66;03m# Guarantee existence of critical attributes if ``__init__`` didn't\u001b[39;00m\n\u001b[32m     32\u001b[39m     \u001b[38;5;66;03m# create them.\u001b[39;00m\n\u001b[32m     33\u001b[39m     \u001b[38;5;28;01mif\u001b[39;00m \u001b[38;5;129;01mnot\u001b[39;00m \u001b[38;5;28mhasattr\u001b[39m(obj, \u001b[33m\"\u001b[39m\u001b[33mcallbacks\u001b[39m\u001b[33m\"\u001b[39m):\n",
      "\u001b[31mTypeError\u001b[39m: ReAct.__init__() missing 1 required positional argument: 'tools'"
     ]
    }
   ],
   "source": [
    "import dspy\n",
    "from src.roma_dspy.modules.executor import Executor\n",
    "from src.roma_dspy.modules.atomizer import Atomizer\n",
    "from src.roma_dspy.modules.planner import Planner\n",
    "from src.roma_dspy.modules.aggregator import Aggregator\n",
    "\n",
    "def get_weather(city: str) -> str:\n",
    "    \"\"\"Get the weather in a given city.\"\"\"\n",
    "    return f\"The weather in {city} is sunny.\"\n",
    "\n",
    "executor_lm = dspy.LM(\"fireworks_ai/accounts/fireworks/models/kimi-k2-instruct-0905\", temperature=0.7, cache=True)\n",
    "executor = Executor(lm=executor_lm, prediction_strategy='react', tools=[get_weather], context_defaults={'track_usage': True})\n",
    "\n",
    "atomizer_lm = dspy.LM(\"openrouter/google/gemini-2.5-flash\", temperature=0.6, cache=True)\n",
    "atomizer = Atomizer(lm=atomizer_lm, prediction_strategy='cot', context_defaults={'track_usage': True})\n",
    "\n",
    "planner_lm = dspy.LM(\"openrouter/openai/gpt-4o-mini\", temperature=0.85, cache=True)\n",
    "planner = Planner(lm=planner_lm, prediction_strategy='cot', context_defaults={'track_usage': True})"
   ]
  },
  {
   "cell_type": "code",
   "execution_count": 10,
   "id": "2e378655",
   "metadata": {},
   "outputs": [],
   "source": [
    "output = await executor.aforward(input_task='Whos the best player in the world?')"
   ]
  },
  {
   "cell_type": "code",
   "execution_count": 13,
   "id": "c13d9768",
   "metadata": {},
   "outputs": [],
   "source": [
    "def get_weather(city: str) -> str:\n",
    "    \"\"\"Get the weather in a given city.\"\"\"\n",
    "    return f\"The weather in {city} is sunny.\"\n"
   ]
  },
  {
   "cell_type": "code",
   "execution_count": 15,
   "id": "8c321ca0",
   "metadata": {},
   "outputs": [],
   "source": [
    "executor = Executor(lm=lm, prediction_strategy='react', tools=[get_weather], context_defaults={'track_usage': True})"
   ]
  },
  {
   "cell_type": "code",
   "execution_count": 16,
   "id": "19e571af",
   "metadata": {},
   "outputs": [
    {
     "name": "stderr",
     "output_type": "stream",
     "text": [
      "2025/09/22 17:28:02 WARNING dspy.primitives.module: Calling module.forward(...) on Executor directly is discouraged. Please use module(...) instead.\n",
      "2025/09/22 17:28:02 WARNING dspy.primitives.module: Calling module.forward(...) on ReAct directly is discouraged. Please use module(...) instead.\n"
     ]
    }
   ],
   "source": [
    "weather_output = executor.forward(input_task='What is the weather in San Francisco?')"
   ]
  },
  {
   "cell_type": "code",
   "execution_count": null,
   "id": "13261875",
   "metadata": {},
   "outputs": [],
   "source": []
  }
 ],
 "metadata": {
  "kernelspec": {
   "display_name": ".venv",
   "language": "python",
   "name": "python3"
  },
  "language_info": {
   "codemirror_mode": {
    "name": "ipython",
    "version": 3
   },
   "file_extension": ".py",
   "mimetype": "text/x-python",
   "name": "python",
   "nbconvert_exporter": "python",
   "pygments_lexer": "ipython3",
   "version": "3.12.9"
  }
 },
 "nbformat": 4,
 "nbformat_minor": 5
}
