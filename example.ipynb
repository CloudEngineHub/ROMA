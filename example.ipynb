{
 "cells": [
  {
   "cell_type": "code",
   "execution_count": 3,
   "id": "75427881",
   "metadata": {},
   "outputs": [],
   "source": [
    "import dspy\n",
    "from src.roma_dspy.modules.executor import Executor\n",
    "from src.roma_dspy.modules.atomizer import Atomizer\n",
    "from src.roma_dspy.modules.planner import Planner\n",
    "from src.roma_dspy.modules.aggregator import Aggregator\n",
    "\n",
    "def get_weather(city: str) -> str:\n",
    "    \"\"\"Get the weather in a given city.\"\"\"\n",
    "    return f\"The weather in {city} is sunny.\"\n",
    "\n",
    "executor_lm = dspy.LM(\"fireworks_ai/accounts/fireworks/models/kimi-k2-instruct-0905\", temperature=0.7, cache=True)\n",
    "executor = Executor(lm=executor_lm, prediction_strategy='react', tools=[get_weather], context_defaults={'track_usage': True})\n",
    "\n",
    "atomizer_lm = dspy.LM(\"openrouter/google/gemini-2.5-flash\", temperature=0.6, cache=False)\n",
    "atomizer = Atomizer(lm=atomizer_lm, prediction_strategy='cot', context_defaults={'track_usage': True})\n",
    "\n",
    "planner_lm = dspy.LM(\"openrouter/openai/gpt-4o-mini\", temperature=0.85, cache=True)\n",
    "planner = Planner(lm=planner_lm, prediction_strategy='cot', context_defaults={'track_usage': True})"
   ]
  },
  {
   "cell_type": "code",
   "execution_count": 6,
   "id": "41d99032",
   "metadata": {},
   "outputs": [
    {
     "data": {
      "text/plain": [
       "{'model': 'fireworks_ai/accounts/fireworks/models/kimi-k2-instruct-0905',\n",
       " 'model_type': 'chat',\n",
       " 'cache': True,\n",
       " 'kwargs': {'temperature': 0.7, 'max_tokens': '****'}}"
      ]
     },
     "execution_count": 6,
     "metadata": {},
     "output_type": "execute_result"
    }
   ],
   "source": [
    "executor.get_model_config()"
   ]
  },
  {
   "cell_type": "code",
   "execution_count": null,
   "id": "166114b8",
   "metadata": {},
   "outputs": [],
   "source": []
  }
 ],
 "metadata": {
  "kernelspec": {
   "display_name": ".venv",
   "language": "python",
   "name": "python3"
  },
  "language_info": {
   "codemirror_mode": {
    "name": "ipython",
    "version": 3
   },
   "file_extension": ".py",
   "mimetype": "text/x-python",
   "name": "python",
   "nbconvert_exporter": "python",
   "pygments_lexer": "ipython3",
   "version": "3.12.9"
  }
 },
 "nbformat": 4,
 "nbformat_minor": 5
}
