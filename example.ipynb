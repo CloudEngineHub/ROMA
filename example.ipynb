{
 "cells": [
  {
   "cell_type": "code",
   "execution_count": 9,
   "id": "75427881",
   "metadata": {},
   "outputs": [],
   "source": [
    "import dspy\n",
    "from src.roma_dspy.modules.executor import Executor\n",
    "\n",
    "lm = dspy.LM(\"fireworks_ai/accounts/fireworks/models/kimi-k2-instruct-0905\", temperature=0.7, cache=True)\n",
    "executor = Executor(lm=lm, prediction_strategy='cot', context_defaults={'track_usage': True})"
   ]
  },
  {
   "cell_type": "code",
   "execution_count": 10,
   "id": "2e378655",
   "metadata": {},
   "outputs": [],
   "source": [
    "output = await executor.aforward(input_task='Whos the best player in the world?')"
   ]
  },
  {
   "cell_type": "code",
   "execution_count": 13,
   "id": "c13d9768",
   "metadata": {},
   "outputs": [],
   "source": [
    "def get_weather(city: str) -> str:\n",
    "    \"\"\"Get the weather in a given city.\"\"\"\n",
    "    return f\"The weather in {city} is sunny.\"\n"
   ]
  },
  {
   "cell_type": "code",
   "execution_count": 15,
   "id": "8c321ca0",
   "metadata": {},
   "outputs": [],
   "source": [
    "executor = Executor(lm=lm, prediction_strategy='react', tools=[get_weather], context_defaults={'track_usage': True})"
   ]
  },
  {
   "cell_type": "code",
   "execution_count": 16,
   "id": "19e571af",
   "metadata": {},
   "outputs": [
    {
     "name": "stderr",
     "output_type": "stream",
     "text": [
      "2025/09/22 17:28:02 WARNING dspy.primitives.module: Calling module.forward(...) on Executor directly is discouraged. Please use module(...) instead.\n",
      "2025/09/22 17:28:02 WARNING dspy.primitives.module: Calling module.forward(...) on ReAct directly is discouraged. Please use module(...) instead.\n"
     ]
    }
   ],
   "source": [
    "weather_output = executor.forward(input_task='What is the weather in San Francisco?')"
   ]
  },
  {
   "cell_type": "code",
   "execution_count": null,
   "id": "13261875",
   "metadata": {},
   "outputs": [],
   "source": []
  }
 ],
 "metadata": {
  "kernelspec": {
   "display_name": ".venv",
   "language": "python",
   "name": "python3"
  },
  "language_info": {
   "codemirror_mode": {
    "name": "ipython",
    "version": 3
   },
   "file_extension": ".py",
   "mimetype": "text/x-python",
   "name": "python",
   "nbconvert_exporter": "python",
   "pygments_lexer": "ipython3",
   "version": "3.12.9"
  }
 },
 "nbformat": 4,
 "nbformat_minor": 5
}
