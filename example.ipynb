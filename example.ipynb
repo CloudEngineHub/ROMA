{
 "cells": [
  {
   "cell_type": "code",
   "execution_count": null,
   "id": "75427881",
   "metadata": {},
   "outputs": [],
   "source": [
    "import dspy\n",
    "from src.roma_dspy.modules import Executor, Atomizer, Planner, Aggregator\n",
    "from src.roma_dspy.engine.solve import RecursiveSolver\n",
    "from src.roma_dspy.engine.visualizer import ExecutionVisualizer\n",
    "\n",
    "executor_lm = dspy.LM(\"openrouter/google/gemini-2.5-flash\", cache=False)\n",
    "atomizer_lm = dspy.LM(\"openrouter/google/gemini-2.5-flash\", cache=False)\n",
    "planner_lm = dspy.LM(\"openrouter/google/gemini-2.5-flash\", cache=False)\n",
    "aggregator_lm = dspy.LM(\"openrouter/google/gemini-2.5-flash\", cache=False)\n",
    "\n",
    "# Initialize modules\n",
    "atomizer = Atomizer(lm=atomizer_lm)\n",
    "planner = Planner(lm=planner_lm)\n",
    "executor = Executor(lm=executor_lm)\n",
    "aggregator = Aggregator(lm=aggregator_lm)\n",
    "\n",
    "# Create solver\n",
    "solver = RecursiveSolver(\n",
    "    atomizer,\n",
    "    planner,\n",
    "    executor,\n",
    "    aggregator,\n",
    "    max_depth=1\n",
    ")"
   ]
  },
  {
   "cell_type": "code",
   "execution_count": null,
   "id": "5053be67",
   "metadata": {},
   "outputs": [],
   "source": [
    "# Test task - use a simpler task for clearer output\n",
    "task_goal = \"Write me a blog post about the benefits of using DSPy.\"\n",
    "\n",
    "print(\"=\" * 80)\n",
    "print(\"ROMA-DSPy Detailed Execution Visualization\")\n",
    "print(\"=\" * 80)\n",
    "print(f\"\\n🎯 Goal: {task_goal}\\n\")\n",
    "\n",
    "# Execute task\n",
    "print(\"⚙️  Executing task...\\n\")\n",
    "result = await solver.async_solve(task_goal)"
   ]
  },
  {
   "cell_type": "code",
   "execution_count": null,
   "id": "ff1d6115",
   "metadata": {},
   "outputs": [],
   "source": [
    "print(result.result)"
   ]
  },
  {
   "cell_type": "code",
   "execution_count": null,
   "id": "bb15237f",
   "metadata": {},
   "outputs": [],
   "source": [
    "# Get the DAG for detailed visualization\n",
    "dag = solver.last_dag\n",
    "\n",
    "if dag:\n",
    "    # Show the full execution report\n",
    "    visualizer = ExecutionVisualizer()\n",
    "    print(visualizer.get_full_execution_report(result, dag))"
   ]
  },
  {
   "cell_type": "code",
   "execution_count": null,
   "id": "d6705477",
   "metadata": {},
   "outputs": [],
   "source": [
    "print(result.result)"
   ]
  },
  {
   "cell_type": "code",
   "execution_count": null,
   "id": "532f3c41",
   "metadata": {},
   "outputs": [],
   "source": []
  }
 ],
 "metadata": {
  "kernelspec": {
   "display_name": ".venv",
   "language": "python",
   "name": "python3"
  },
  "language_info": {
   "codemirror_mode": {
    "name": "ipython",
    "version": 3
   },
   "file_extension": ".py",
   "mimetype": "text/x-python",
   "name": "python",
   "nbconvert_exporter": "python",
   "pygments_lexer": "ipython3",
   "version": "3.12.9"
  }
 },
 "nbformat": 4,
 "nbformat_minor": 5
}
