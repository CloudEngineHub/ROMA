{
 "cells": [
  {
   "cell_type": "code",
   "execution_count": 1,
   "id": "1273d854",
   "metadata": {},
   "outputs": [],
   "source": [
    "import dspy\n",
    "from src.roma_dspy.signatures.signatures import AtomizerSignature, PlannerSignature, ExecutorSignature, AggregatorResult\n",
    "lm = dspy.LM(\"openrouter/google/gemini-2.5-flash\")\n",
    "dspy.configure(lm=lm)"
   ]
  },
  {
   "cell_type": "code",
   "execution_count": 2,
   "id": "75427881",
   "metadata": {},
   "outputs": [],
   "source": [
    "atomizer = dspy.ChainOfThought(AtomizerSignature)\n",
    "planner = dspy.ChainOfThought(PlannerSignature)\n",
    "executor = dspy.ChainOfThought(ExecutorSignature)\n",
    "aggregator = dspy.ChainOfThought(AggregatorResult)"
   ]
  },
  {
   "cell_type": "code",
   "execution_count": 4,
   "id": "2e378655",
   "metadata": {},
   "outputs": [],
   "source": [
    "atomizer_result = atomizer(goal='Write me a blog post about the benefits of using AI in the workplace')"
   ]
  },
  {
   "cell_type": "code",
   "execution_count": 5,
   "id": "fa2abdb7",
   "metadata": {},
   "outputs": [
    {
     "data": {
      "text/plain": [
       "Prediction(\n",
       "    reasoning='Writing a blog post is a complex task that involves multiple steps: outlining, drafting, editing, and potentially adding images or SEO optimization. It cannot be executed directly as a single atomic action. Therefore, it needs to be broken down into smaller, manageable sub-tasks.',\n",
       "    is_atomic=False,\n",
       "    node_type=<NodeType.PLAN: 'PLAN'>\n",
       ")"
      ]
     },
     "execution_count": 5,
     "metadata": {},
     "output_type": "execute_result"
    }
   ],
   "source": [
    "atomizer_result"
   ]
  },
  {
   "cell_type": "code",
   "execution_count": 6,
   "id": "6ecda8f4",
   "metadata": {},
   "outputs": [],
   "source": [
    "plan_result = planner(goal='Write me a blog post about the benefits of using AI in the workplace')"
   ]
  },
  {
   "cell_type": "code",
   "execution_count": 11,
   "id": "21d1b92a",
   "metadata": {},
   "outputs": [],
   "source": [
    "executor_result=executor(goal='How many YouTube videos are above 28million views?')"
   ]
  },
  {
   "cell_type": "code",
   "execution_count": 12,
   "id": "5c002367",
   "metadata": {},
   "outputs": [
    {
     "data": {
      "text/plain": [
       "Prediction(\n",
       "    reasoning=\"I cannot directly access real-time YouTube data or perform live queries on video view counts. YouTube's API has limitations on the scope of data that can be retrieved, and there isn't a public, easily queryable database of all YouTube videos and their view counts that I can access to answer such a broad question.\",\n",
       "    output='I cannot provide an exact number of YouTube videos above 28 million views. This kind of real-time, comprehensive data is not publicly available or accessible through my current capabilities.',\n",
       "    sources=[]\n",
       ")"
      ]
     },
     "execution_count": 12,
     "metadata": {},
     "output_type": "execute_result"
    }
   ],
   "source": [
    "executor_result"
   ]
  },
  {
   "cell_type": "code",
   "execution_count": null,
   "id": "2689b377",
   "metadata": {},
   "outputs": [],
   "source": [
    "from src.roma_dspy.signatures.base_models.subtask import SubTask\n",
    "from src.roma_dspy.types.task_type import TaskType\n",
    "\n",
    "original_goal = \"Write a 250-word executive summary of the 2023–2024 El Niño's global climate impacts, citing 2–3 credible sources.\"\n",
    "\n",
    "subtasks_results = [\n",
    "    SubTask(\n",
    "        goal=\"[T1] Retrieve two authoritative sources on the 2023–2024 El Niño impacts (e.g., NOAA, WMO).\",\n",
    "        task_type=TaskType.RETRIEVE,\n",
    "        dependencies=[]\n",
    "    ),\n",
    "    SubTask(\n",
    "        goal=\"[T2] Extract key quantitative impacts (temperature anomalies, precipitation shifts) from the retrieved sources.\",\n",
    "        task_type=TaskType.THINK,\n",
    "        dependencies=[\"T1\"]\n",
    "    ),\n",
    "    SubTask(\n",
    "        goal=\"[T3] Analyze regional impacts and trade-offs (Americas, Africa, Asia–Pacific).\",\n",
    "        task_type=TaskType.THINK,\n",
    "        dependencies=[\"T1\"]\n",
    "    ),\n",
    "    SubTask(\n",
    "        goal=\"[T4] Synthesize a 250-word executive summary with inline citations.\",\n",
    "        task_type=TaskType.WRITE,\n",
    "        dependencies=[\"T2\", \"T3\"]\n",
    "    ),\n",
    "    # Intentionally irrelevant/noisy subtasks\n",
    "    SubTask(\n",
    "        goal=\"[IR1] Generate a photorealistic image of a penguin surfing.\",\n",
    "        task_type=TaskType.IMAGE_GENERATION,\n",
    "        dependencies=[]\n",
    "    ),\n",
    "    SubTask(\n",
    "        goal=\"[IR2] Write a SQL query to join 'orders' and 'customers' tables by customer_id.\",\n",
    "        task_type=TaskType.CODE_INTERPRET,\n",
    "        dependencies=[]\n",
    "    ),\n",
    "]"
   ]
  },
  {
   "cell_type": "code",
   "execution_count": null,
   "id": "c7b41289",
   "metadata": {},
   "outputs": [],
   "source": [
    "aggregator_result = "
   ]
  }
 ],
 "metadata": {
  "kernelspec": {
   "display_name": ".venv",
   "language": "python",
   "name": "python3"
  },
  "language_info": {
   "codemirror_mode": {
    "name": "ipython",
    "version": 3
   },
   "file_extension": ".py",
   "mimetype": "text/x-python",
   "name": "python",
   "nbconvert_exporter": "python",
   "pygments_lexer": "ipython3",
   "version": "3.12.9"
  }
 },
 "nbformat": 4,
 "nbformat_minor": 5
}
