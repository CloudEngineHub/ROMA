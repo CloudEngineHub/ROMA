{
 "cells": [
  {
   "cell_type": "code",
   "execution_count": null,
   "id": "75427881",
   "metadata": {},
   "outputs": [],
   "source": [
    "import dspy\n",
    "from src.roma_dspy.modules.executor import Executor\n",
    "\n",
    "lm = dspy.LM(\"fireworks_ai/accounts/fireworks/models/kimi-k2-instruct-0905\", temperature=0.5, cache=True)\n",
    "executor = Executor(lm=lm, prediction_strategy='cot', context_defaults={'track_usage': True, 'cache': True})"
   ]
  },
  {
   "cell_type": "code",
   "execution_count": null,
   "id": "2e378655",
   "metadata": {},
   "outputs": [],
   "source": [
    "output = await executor.aforward(input_task='Whos the best player in the world?')"
   ]
  },
  {
   "cell_type": "code",
   "execution_count": null,
   "id": "cbe85673",
   "metadata": {},
   "outputs": [],
   "source": []
  }
 ],
 "metadata": {
  "kernelspec": {
   "display_name": ".venv",
   "language": "python",
   "name": "python3"
  },
  "language_info": {
   "codemirror_mode": {
    "name": "ipython",
    "version": 3
   },
   "file_extension": ".py",
   "mimetype": "text/x-python",
   "name": "python",
   "nbconvert_exporter": "python",
   "pygments_lexer": "ipython3",
   "version": "3.12.9"
  }
 },
 "nbformat": 4,
 "nbformat_minor": 5
}
