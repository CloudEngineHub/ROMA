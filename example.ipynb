{
 "cells": [
  {
   "cell_type": "code",
   "execution_count": 1,
   "id": "75427881",
   "metadata": {},
   "outputs": [],
   "source": [
    "from roma_dspy import RecursiveSolverModule, RecursiveSolver, Executor, Atomizer, Planner, Aggregator\n",
    "import dspy \n",
    "\n",
    "executor_lm = dspy.LM(\"openrouter/google/gemini-2.5-flash\", cache=True)\n",
    "atomizer_lm = dspy.LM(\"openrouter/google/gemini-2.5-flash\", cache=True)\n",
    "planner_lm = dspy.LM(\"openrouter/google/gemini-2.5-flash\", cache=True)\n",
    "aggregator_lm = dspy.LM(\"openrouter/google/gemini-2.5-flash\", cache=True)\n",
    "\n",
    "# Initialize modules\n",
    "atomizer = Atomizer(lm=atomizer_lm)\n",
    "planner = Planner(lm=planner_lm)\n",
    "executor = Executor(lm=executor_lm)\n",
    "aggregator = Aggregator(lm=aggregator_lm)\n",
    "\n",
    "# Create solver\n",
    "solver = RecursiveSolver(\n",
    "    atomizer,\n",
    "    planner,\n",
    "    executor,\n",
    "    aggregator,\n",
    "    max_depth=1\n",
    ")\n",
    "\n",
    "dspy_module = RecursiveSolverModule(solver=solver)"
   ]
  },
  {
   "cell_type": "code",
   "execution_count": 2,
   "id": "3b9a8e0e",
   "metadata": {},
   "outputs": [
    {
     "name": "stderr",
     "output_type": "stream",
     "text": [
      "2025/09/30 20:25:19 WARNING dspy.clients.lm: LM response was truncated due to exceeding max_tokens=4000. You can inspect the latest LM interactions with `dspy.inspect_history()`. To avoid truncation, consider passing a larger max_tokens when setting up dspy.LM. You may also consider increasing the temperature (currently 0.0)  if the reason for truncation is repetition.\n"
     ]
    }
   ],
   "source": [
    "task_goal = \"Write me a blog post about the benefits of using DSPy.\"\n",
    "\n",
    "root = await dspy_module.aforward(task_goal)"
   ]
  },
  {
   "cell_type": "code",
   "execution_count": null,
   "id": "bb15237f",
   "metadata": {},
   "outputs": [],
   "source": [
    "from roma_dspy.visualizer import TreeVisualizer, ContextFlowVisualizer, LLMTraceVisualizer\n",
    "\n",
    "# Show the full execution report\n",
    "tree = TreeVisualizer(use_colors=True, show_timing=True)\n",
    "print(tree.visualize(root.completed_task, dag=dspy_module._solver.last_dag))"
   ]
  },
  {
   "cell_type": "code",
   "execution_count": null,
   "id": "80c95e69",
   "metadata": {},
   "outputs": [],
   "source": [
    "context_viz = ContextFlowVisualizer(use_colors=True)\n",
    "print(context_viz.visualize(dspy_module, show_full_context=True))\n"
   ]
  },
  {
   "cell_type": "code",
   "execution_count": null,
   "id": "9e34d4c3",
   "metadata": {},
   "outputs": [],
   "source": [
    "viz = LLMTraceVisualizer(show_metrics=False, show_summary=False, verbose=True)\n",
    "trace = viz.visualize(dspy_module)"
   ]
  },
  {
   "cell_type": "code",
   "execution_count": null,
   "id": "4575fcce",
   "metadata": {},
   "outputs": [],
   "source": [
    "# Debug: Check what modules were recorded for the root task\n",
    "root_task = dspy_module._solver.last_dag.get_node(list(dspy_module._solver.last_dag.graph.nodes())[0])\n",
    "print(\"Root task execution_history keys:\", list(root_task.execution_history.keys()))\n",
    "for module_name, result in root_task.execution_history.items():\n",
    "    print(f\"\\n{module_name}:\")\n",
    "    print(f\"  Duration: {result.duration:.2f}s\")\n",
    "    print(f\"  Input type: {type(result.input)}\")\n",
    "    print(f\"  Output type: {type(result.output)}\")"
   ]
  },
  {
   "cell_type": "code",
   "execution_count": 3,
   "id": "a62f5f8a",
   "metadata": {},
   "outputs": [
    {
     "data": {
      "text/plain": [
       "'e4b08850-9c6e-48c6-9ee6-1420abbddac6'"
      ]
     },
     "execution_count": 3,
     "metadata": {},
     "output_type": "execute_result"
    }
   ],
   "source": [
    "dspy_module._solver.last_dag.get_execution_id()"
   ]
  },
  {
   "cell_type": "code",
   "execution_count": null,
   "id": "75c6ba51",
   "metadata": {},
   "outputs": [],
   "source": []
  }
 ],
 "metadata": {
  "kernelspec": {
   "display_name": ".venv",
   "language": "python",
   "name": "python3"
  },
  "language_info": {
   "codemirror_mode": {
    "name": "ipython",
    "version": 3
   },
   "file_extension": ".py",
   "mimetype": "text/x-python",
   "name": "python",
   "nbconvert_exporter": "python",
   "pygments_lexer": "ipython3",
   "version": "3.12.9"
  }
 },
 "nbformat": 4,
 "nbformat_minor": 5
}
