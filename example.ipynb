{
 "cells": [
  {
   "cell_type": "code",
   "execution_count": 1,
   "id": "75427881",
   "metadata": {},
   "outputs": [],
   "source": [
    "from roma_dspy import RecursiveSolverModule, RecursiveSolver, Executor, Atomizer, Planner, Aggregator\n",
    "import dspy \n",
    "\n",
    "executor_lm = dspy.LM(\"openrouter/google/gemini-2.5-flash\", cache=False)\n",
    "atomizer_lm = dspy.LM(\"openrouter/google/gemini-2.5-flash\", cache=False)\n",
    "planner_lm = dspy.LM(\"openrouter/google/gemini-2.5-flash\", cache=False)\n",
    "aggregator_lm = dspy.LM(\"openrouter/google/gemini-2.5-flash\", cache=False)\n",
    "\n",
    "# Initialize modules\n",
    "atomizer = Atomizer(lm=atomizer_lm)\n",
    "planner = Planner(lm=planner_lm)\n",
    "executor = Executor(lm=executor_lm)\n",
    "aggregator = Aggregator(lm=aggregator_lm)\n",
    "\n",
    "# Create solver\n",
    "solver = RecursiveSolver(\n",
    "    atomizer,\n",
    "    planner,\n",
    "    executor,\n",
    "    aggregator,\n",
    "    max_depth=1\n",
    ")\n",
    "\n",
    "dspy_module = RecursiveSolverModule(solver=solver)"
   ]
  },
  {
   "cell_type": "code",
   "execution_count": null,
   "id": "3b9a8e0e",
   "metadata": {},
   "outputs": [],
   "source": [
    "task_goal = \"Write me a blog post about the benefits of using DSPy.\"\n",
    "\n",
    "root = await dspy_module.aforward(task_goal)"
   ]
  },
  {
   "cell_type": "code",
   "execution_count": null,
   "id": "bb15237f",
   "metadata": {},
   "outputs": [],
   "source": [
    "from roma_dspy.visualizer import TreeVisualizer, ContextFlowVisualizer, StatisticsVisualizer, HierarchicalVisualizer# Get the DAG for detailed visualization\n",
    "\n",
    "# Show the full execution report\n",
    "tree = TreeVisualizer(use_colors=True, show_timing=True)\n",
    "print(tree.visualize(root.completed_task, dag=dspy_module._solver.last_dag))"
   ]
  },
  {
   "cell_type": "code",
   "execution_count": null,
   "id": "80c95e69",
   "metadata": {},
   "outputs": [],
   "source": []
  }
 ],
 "metadata": {
  "kernelspec": {
   "display_name": ".venv",
   "language": "python",
   "name": "python3"
  },
  "language_info": {
   "codemirror_mode": {
    "name": "ipython",
    "version": 3
   },
   "file_extension": ".py",
   "mimetype": "text/x-python",
   "name": "python",
   "nbconvert_exporter": "python",
   "pygments_lexer": "ipython3",
   "version": "3.12.9"
  }
 },
 "nbformat": 4,
 "nbformat_minor": 5
}
