{
 "cells": [
  {
   "cell_type": "markdown",
   "metadata": {},
   "source": [
    "# Climate Report Example"
   ]
  },
  {
   "cell_type": "code",
   "execution_count": null,
   "metadata": {},
   "outputs": [],
   "source": [
    "import dspy\n",
    "from src.roma_dspy.signatures.signatures import AtomizerSignature, PlannerSignature, ExecutorSignature, AggregatorResult\n",
    "lm = dspy.LM(\"openrouter/google/gemini-2.5-flash\")\n",
    "dspy.configure(lm=lm)"
   ]
  },
  {
   "cell_type": "code",
   "execution_count": null,
   "metadata": {},
   "outputs": [],
   "source": [
    "atomizer = dspy.ChainOfThought(AtomizerSignature)\n",
    "planner = dspy.ChainOfThought(PlannerSignature)\n",
    "executor = dspy.ChainOfThought(ExecutorSignature)\n",
    "aggregator = dspy.ChainOfThought(AggregatorResult)"
   ]
  }
 ],
 "metadata": {
  "kernelspec": {
   "display_name": ".venv",
   "language": "python",
   "name": "python3"
  },
  "language_info": {
   "codemirror_mode": {
    "name": "ipython",
    "version": 3
   },
   "file_extension": ".py",
   "mimetype": "text/x-python",
   "name": "python",
   "nbconvert_exporter": "python",
   "pygments_lexer": "ipython3",
   "version": "3.12.9"
  }
 },
 "nbformat": 4,
 "nbformat_minor": 2
}
