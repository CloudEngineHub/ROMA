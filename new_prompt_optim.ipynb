{
 "cells": [
  {
   "cell_type": "code",
   "execution_count": 8,
   "id": "4980bebf",
   "metadata": {},
   "outputs": [],
   "source": [
    "import asyncio\n",
    "import dspy\n",
    "\n",
    "from prompt_optimization import (\n",
    "    get_default_config,\n",
    "    LMConfig,\n",
    "    patch_romaconfig,\n",
    "    load_aimo_datasets,\n",
    "    ComponentJudge,\n",
    "    MetricWithFeedback,\n",
    "    create_optimizer,\n",
    ")\n",
    "from prompt_optimization.seed_prompts import (\n",
    "    ATOMIZER_PROMPT,\n",
    "    ATOMIZER_DEMOS,\n",
    "    PLANNER_PROMPT,\n",
    "    PLANNER_DEMOS,\n",
    "    AGGREGATOR_PROMPT,\n",
    ")\n",
    "from roma_dspy.config import load_config\n",
    "from roma_dspy.core.engine.solve import RecursiveSolver\n",
    "from roma_dspy.core.modules.recursive_solver import RecursiveSolverModule\n",
    "\n",
    "dspy.settings.provide_traceback = True  # optional but mirrors the old notebook\n",
    "opt_cfg = get_default_config()"
   ]
  },
  {
   "cell_type": "code",
   "execution_count": null,
   "id": "1335161d",
   "metadata": {},
   "outputs": [],
   "source": [
    "opt_cfg.atomizer_lm = LMConfig(\"cerebras/qwen-3-235b-a22b-instruct-2507\", temperature=0.35, max_tokens=128_000)\n",
    "opt_cfg.planner_lm = LMConfig(\"cerebras/qwen-3-235b-a22b-instruct-2507\", temperature=0.3, max_tokens=128_000)\n",
    "opt_cfg.executor_lm = LMConfig(\"cerebras/gpt-oss-120b\", temperature=0.6, max_tokens=128_000)\n",
    "opt_cfg.aggregator_lm = LMConfig(\"cerebras/gpt-oss-120b\", temperature=0.4, max_tokens=64_000)\n",
    "opt_cfg.judge_lm = LMConfig(\"openrouter/anthropic/claude-sonnet-4.5\", temperature=0.75, max_tokens=128_000, cache=True)\n",
    "opt_cfg.reflection_lm = LMConfig(\"openrouter/anthropic/claude-sonnet-4.5\", temperature=0.9, max_tokens=64_000)"
   ]
  },
  {
   "cell_type": "code",
   "execution_count": null,
   "id": "7f020b88",
   "metadata": {},
   "outputs": [],
   "source": []
  }
 ],
 "metadata": {
  "kernelspec": {
   "display_name": ".venv",
   "language": "python",
   "name": "python3"
  },
  "language_info": {
   "codemirror_mode": {
    "name": "ipython",
    "version": 3
   },
   "file_extension": ".py",
   "mimetype": "text/x-python",
   "name": "python",
   "nbconvert_exporter": "python",
   "pygments_lexer": "ipython3",
   "version": "3.12.9"
  }
 },
 "nbformat": 4,
 "nbformat_minor": 5
}
